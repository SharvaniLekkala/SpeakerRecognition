{
 "cells": [
  {
   "cell_type": "code",
   "execution_count": 124,
   "id": "f3d574c9",
   "metadata": {},
   "outputs": [],
   "source": [
    "import os\n",
    "import numpy as np\n",
    "import librosa\n",
    "from sklearn.mixture import GaussianMixture\n",
    "import pickle"
   ]
  },
  {
   "cell_type": "code",
   "execution_count": 125,
   "id": "5de2b994",
   "metadata": {},
   "outputs": [],
   "source": [
    "SR = 16000\n",
    "WINDOW_LENGTH = 0.02 \n",
    "HOP_LENGTH = 0.01\n",
    "N_MFCC = 13\n",
    "FMAX=None"
   ]
  },
  {
   "cell_type": "code",
   "execution_count": 126,
   "id": "488c9928",
   "metadata": {},
   "outputs": [],
   "source": [
    "def extract_mfcc(file_path, sr=SR, window_length=WINDOW_LENGTH, hop_length=HOP_LENGTH, n_mfcc=N_MFCC, fmax=FMAX):\n",
    "    y, sr = librosa.load(file_path, sr=sr)\n",
    "    mfcc = librosa.feature.mfcc(y=y, sr=sr, n_mfcc=n_mfcc, \n",
    "                                n_fft=int(sr * window_length), \n",
    "                                hop_length=int(sr * hop_length),\n",
    "                                fmax=fmax)\n",
    "    return mfcc.T"
   ]
  },
  {
   "cell_type": "code",
   "execution_count": 127,
   "id": "4caab988",
   "metadata": {},
   "outputs": [],
   "source": [
    "def train_gmm_for_speaker(data_folder):\n",
    "    speakers = os.listdir(data_folder)\n",
    "    gmm_models = {}\n",
    "    \n",
    "    for speaker in speakers:\n",
    "        speaker_path = os.path.join(data_folder, speaker)\n",
    "        if os.path.isdir(speaker_path):\n",
    "            mfccs = []\n",
    "            for file in os.listdir(speaker_path):\n",
    "                file_path = os.path.join(speaker_path, file)\n",
    "                if file_path.endswith('.wav'):\n",
    "                    mfcc = extract_mfcc(file_path)\n",
    "                    mfccs.append(mfcc)\n",
    "            mfccs = np.vstack(mfccs)\n",
    "            gmm = GaussianMixture(n_components=16, covariance_type='diag', n_init=3)\n",
    "            gmm.fit(mfccs)\n",
    "            gmm_models[speaker] = gmm\n",
    "    \n",
    "    return gmm_models"
   ]
  },
  {
   "cell_type": "code",
   "execution_count": 129,
   "id": "0a5fbcd9",
   "metadata": {},
   "outputs": [],
   "source": [
    "def predict_speaker(gmm_models, file_path):\n",
    "    mfcc = extract_mfcc(file_path)\n",
    "    best_speaker = None\n",
    "    highest_score = float('-inf')\n",
    "\n",
    "    for speaker, gmm in gmm_models.items():\n",
    "        score = gmm.score(mfcc)\n",
    "        if score > highest_score:\n",
    "            highest_score = score\n",
    "            best_speaker = speaker\n",
    "\n",
    "    return best_speaker"
   ]
  },
  {
   "cell_type": "code",
   "execution_count": 130,
   "id": "62f24f92",
   "metadata": {},
   "outputs": [],
   "source": [
    "data_folder = r\"C:\\Users\\User\\Desktop\\speech technologies\\16000_pcm_speeches\"\n",
    "gmm_model_path = 'gmm_models.pkl'"
   ]
  },
  {
   "cell_type": "code",
   "execution_count": 131,
   "id": "00280ace",
   "metadata": {},
   "outputs": [
    {
     "name": "stderr",
     "output_type": "stream",
     "text": [
      "C:\\Users\\User\\anaconda\\lib\\site-packages\\librosa\\feature\\spectral.py:2143: UserWarning: Empty filters detected in mel frequency basis. Some channels will produce empty responses. Try increasing your sampling rate (and fmax) or reducing n_mels.\n",
      "  mel_basis = filters.mel(sr=sr, n_fft=n_fft, **kwargs)\n",
      "C:\\Users\\User\\anaconda\\lib\\site-packages\\librosa\\feature\\spectral.py:2143: UserWarning: Empty filters detected in mel frequency basis. Some channels will produce empty responses. Try increasing your sampling rate (and fmax) or reducing n_mels.\n",
      "  mel_basis = filters.mel(sr=sr, n_fft=n_fft, **kwargs)\n",
      "C:\\Users\\User\\anaconda\\lib\\site-packages\\librosa\\feature\\spectral.py:2143: UserWarning: Empty filters detected in mel frequency basis. Some channels will produce empty responses. Try increasing your sampling rate (and fmax) or reducing n_mels.\n",
      "  mel_basis = filters.mel(sr=sr, n_fft=n_fft, **kwargs)\n",
      "C:\\Users\\User\\anaconda\\lib\\site-packages\\librosa\\feature\\spectral.py:2143: UserWarning: Empty filters detected in mel frequency basis. Some channels will produce empty responses. Try increasing your sampling rate (and fmax) or reducing n_mels.\n",
      "  mel_basis = filters.mel(sr=sr, n_fft=n_fft, **kwargs)\n",
      "C:\\Users\\User\\anaconda\\lib\\site-packages\\librosa\\feature\\spectral.py:2143: UserWarning: Empty filters detected in mel frequency basis. Some channels will produce empty responses. Try increasing your sampling rate (and fmax) or reducing n_mels.\n",
      "  mel_basis = filters.mel(sr=sr, n_fft=n_fft, **kwargs)\n",
      "C:\\Users\\User\\anaconda\\lib\\site-packages\\librosa\\feature\\spectral.py:2143: UserWarning: Empty filters detected in mel frequency basis. Some channels will produce empty responses. Try increasing your sampling rate (and fmax) or reducing n_mels.\n",
      "  mel_basis = filters.mel(sr=sr, n_fft=n_fft, **kwargs)\n",
      "C:\\Users\\User\\anaconda\\lib\\site-packages\\librosa\\feature\\spectral.py:2143: UserWarning: Empty filters detected in mel frequency basis. Some channels will produce empty responses. Try increasing your sampling rate (and fmax) or reducing n_mels.\n",
      "  mel_basis = filters.mel(sr=sr, n_fft=n_fft, **kwargs)\n"
     ]
    }
   ],
   "source": [
    "gmm_models = train_gmm_for_speaker(data_folder)\n",
    "with open(gmm_model_path, 'wb') as f:\n",
    "    pickle.dump(gmm_models, f)"
   ]
  },
  {
   "cell_type": "code",
   "execution_count": 132,
   "id": "695cc9a6",
   "metadata": {},
   "outputs": [],
   "source": [
    "with open(gmm_model_path, 'rb') as f:\n",
    "    gmm_models = pickle.load(f)"
   ]
  },
  {
   "cell_type": "code",
   "execution_count": 134,
   "id": "24d046c6",
   "metadata": {},
   "outputs": [
    {
     "name": "stdout",
     "output_type": "stream",
     "text": [
      "The predicted speaker is: other\n"
     ]
    },
    {
     "name": "stderr",
     "output_type": "stream",
     "text": [
      "C:\\Users\\User\\anaconda\\lib\\site-packages\\librosa\\feature\\spectral.py:2143: UserWarning: Empty filters detected in mel frequency basis. Some channels will produce empty responses. Try increasing your sampling rate (and fmax) or reducing n_mels.\n",
      "  mel_basis = filters.mel(sr=sr, n_fft=n_fft, **kwargs)\n"
     ]
    }
   ],
   "source": [
    "sample_file_path = r\"C:\\Users\\User\\Desktop\\speech technologies\\16000_pcm_speeches\\other\\exercise_bike.wav\"\n",
    "predicted_speaker = predict_speaker(gmm_models, sample_file_path)\n",
    "print(f'The predicted speaker is: {predicted_speaker}')"
   ]
  },
  {
   "cell_type": "code",
   "execution_count": null,
   "id": "e2a71840",
   "metadata": {},
   "outputs": [],
   "source": []
  }
 ],
 "metadata": {
  "kernelspec": {
   "display_name": "Python 3 (ipykernel)",
   "language": "python",
   "name": "python3"
  },
  "language_info": {
   "codemirror_mode": {
    "name": "ipython",
    "version": 3
   },
   "file_extension": ".py",
   "mimetype": "text/x-python",
   "name": "python",
   "nbconvert_exporter": "python",
   "pygments_lexer": "ipython3",
   "version": "3.10.9"
  }
 },
 "nbformat": 4,
 "nbformat_minor": 5
}
